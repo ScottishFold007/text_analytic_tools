{
 "cells": [
  {
   "cell_type": "markdown",
   "metadata": {},
   "source": [
    "# Papal text analysis\n",
    "A scratchbook on the work done with the text scraped from the vatical web site."
   ]
  },
  {
   "cell_type": "markdown",
   "metadata": {},
   "source": [
    "## Named entity recognition (NER)\n",
    "The Stanford NER tagger has been used to tag the text, with the 3-class model english.all.3class.distsim.crf.ser, which recognizes LOCATION, PERSON and ORGANIZATION. This model has been trained on the CoNLL 2003, MUC 6 and MUC 7 data sets (and some additional data as stated in [https://nlp.stanford.edu/software/CRF-NER.shtml].\n",
    "\n",
    "Stanford NER tagger citation/reference:\n",
    "```\n",
    "Jenny Rose Finkel, Trond Grenager, and Christopher Manning. 2005. Incorporating Non-local Information into Information Extraction Systems by Gibbs Sampling. Proceedings of the 43nd Annual Meeting of the Association for Computational Linguistics (ACL 2005), pp. 363-370. http://nlp.stanford.edu/~manning/papers/gibbscrf3.pdf\n",
    "```\n",
    "The tagging of the Vatican text is done with a short Python script that uses the `nltk.tag.StanfordNERTagger` wrapper around the  Stanford tagger (which is written in Java).  The script processes each file in these steps:\n",
    "\n",
    "* Read the text and split it into a sequence of words\n",
    "* Ask the NER tagger to tag the sequence of words\n",
    "* Extract the entities tagged as LOCATION, PERSON or ORGANIZATION. Merge consequtive entities of the same class into a *phrase*.\n",
    "* count number of occurrences of each word (or phrase)\n",
    "* write result to file, one line for each combination word and class, and with word count together with fields specifying the pope, type of document, year and name of dokument."
   ]
  },
  {
   "cell_type": "markdown",
   "metadata": {},
   "source": [
    "### How to train a new model"
   ]
  },
  {
   "cell_type": "markdown",
   "metadata": {},
   "source": [
    "The used model, english.all.3class.distsim.crf.ser, has some shortcomings though, when it comes to recognizing religious entities. To improve the result you can either train a new model or assign classes to the unrecognized by hand.\n",
    "\n",
    "Instructions on how to train a new model can be found at [http://nlp.stanford.edu/software/crf-faq.shtml#b]. There are some constraints, though, the important being that it's not possible to extend an existing model. The data used to create Stanford's official models is also not available. A new model must hence be created from scratch, but some of the tagged datasets found at [http://www.cs.technion.ac.il/~gabr/resources/data/ne_datasets.html] can be used as a starting point. \n",
    "\n",
    "1. Select some existing tagged dataset (if exists)\n",
    "2. Find resources that can enable automatic class assignments (gazetteers for names, locations and organizations)\n",
    "3. Create additional tagged datasets that includes the additional proper nouns you wish to train\n",
    "    1. Select and create a big enough corpus that include targeted proper nouns (assuming named entity recognition)\n",
    "    2. Split the corpus into smaller documents\n",
    "    3. Tokenize the corpus using the PTBTokenizer:\n",
    "> java -cp stanford-ner.jar edu.stanford.nlp.process.PTBTokenizer corpus.txt > corpus.tok\n",
    "    4. Annotate the corpus using gazetteers automatically as well as manually.\n",
    "\n",
    "The tagged datasets must be transformed into to a tab-separated file with the format that Stanford NER accepts. As stated in the docs, the parser is not very forgiving. The word and class must be seperated by a single tab, and there cannot be any extra spaces etc.\n",
    "\n",
    "4. Create a *properties file* that specifies the options to be used in the training. (The properties can also be entered as command line options.) a sample properties file file can be found at [https://nlp.stanford.edu/software/crf-faq.shtml#b]:\n",
    "\n",
    "> ```\n",
    "> trainFile = your-trainded-corpus-file.tsv\n",
    "> serializeTo = your-ner-model.ser.gz\n",
    "> map = word=0,answer=1\n",
    "> maxLeft=1\n",
    "> useClassFeature=true\n",
    "> useWord=true\n",
    "> useNGrams=true\n",
    "> noMidNGrams=true\n",
    "> maxNGramLeng=6\n",
    "> usePrev=true\n",
    "> useNext=true\n",
    "> useDisjunctive=true\n",
    "> useSequences=true\n",
    "> usePrevSequences=true\n",
    "> useTypeSeqs=true\n",
    "> useTypeSeqs2=true\n",
    "> useTypeySequences=true\n",
    "> wordShape=chris2useLC\n",
    "> ```\n",
    "\n",
    "5. Next step is to actually create the new model:\n",
    "\n",
    "> java -cp stanford-ner.jar edu.stanford.nlp.ie.crf.CRFClassifier -prop corpus.prop"
   ]
  },
  {
   "cell_type": "markdown",
   "metadata": {},
   "source": [
    "## Compute co-occurrence of NER entities\n",
    "\n",
    "This section computes word-word co-occurrences for the Vatican text material. Two words are co-occurring if they exist in the same document. The co-occurence are computed as the product of the number of times the two words occur in the same document.\n",
    "### Import the Excel file\n",
    "Load the he NER data computed by `NER_runner.py` into a Panda DataFrame. Note that `pandas` (and dependencies) and the `xldr` packaged must be installed for this to work."
   ]
  },
  {
   "cell_type": "code",
   "execution_count": 99,
   "metadata": {
    "collapsed": true,
    "scrolled": true
   },
   "outputs": [],
   "source": [
    "import pandas as pd\n",
    "\n",
    "df = pd.read_excel('../data/NER-john-paul-ii/john-paul-ii.xlsx', 'Sheet1')"
   ]
  },
  {
   "cell_type": "markdown",
   "metadata": {},
   "source": [
    "List some columns for the first few records from the loaded data. Note that count is the number of occurrences for the entity in the document (i.e. a word-document co-occurrence)."
   ]
  },
  {
   "cell_type": "code",
   "execution_count": 100,
   "metadata": {},
   "outputs": [
    {
     "data": {
      "text/html": [
       "<div>\n",
       "<style>\n",
       "    .dataframe thead tr:only-child th {\n",
       "        text-align: right;\n",
       "    }\n",
       "\n",
       "    .dataframe thead th {\n",
       "        text-align: left;\n",
       "    }\n",
       "\n",
       "    .dataframe tbody tr th {\n",
       "        vertical-align: top;\n",
       "    }\n",
       "</style>\n",
       "<table border=\"1\" class=\"dataframe\">\n",
       "  <thead>\n",
       "    <tr style=\"text-align: right;\">\n",
       "      <th></th>\n",
       "      <th>Document</th>\n",
       "      <th>Entity</th>\n",
       "      <th>Classifier</th>\n",
       "      <th>Count</th>\n",
       "    </tr>\n",
       "  </thead>\n",
       "  <tbody>\n",
       "    <tr>\n",
       "      <th>0</th>\n",
       "      <td>john-paul-ii_en_angelus_1978_hf-jp-ii-ang-1978...</td>\n",
       "      <td>Church</td>\n",
       "      <td>ORGANIZATION</td>\n",
       "      <td>2</td>\n",
       "    </tr>\n",
       "    <tr>\n",
       "      <th>1</th>\n",
       "      <td>john-paul-ii_en_angelus_1978_hf-jp-ii-ang-1978...</td>\n",
       "      <td>Mother of God</td>\n",
       "      <td>PERSON</td>\n",
       "      <td>1</td>\n",
       "    </tr>\n",
       "    <tr>\n",
       "      <th>2</th>\n",
       "      <td>john-paul-ii_en_angelus_1978_hf-jp-ii-ang-1978...</td>\n",
       "      <td>Elizabeth</td>\n",
       "      <td>PERSON</td>\n",
       "      <td>1</td>\n",
       "    </tr>\n",
       "    <tr>\n",
       "      <th>3</th>\n",
       "      <td>john-paul-ii_en_angelus_1978_hf-jp-ii-ang-1978...</td>\n",
       "      <td>Dear Brothers</td>\n",
       "      <td>ORGANIZATION</td>\n",
       "      <td>1</td>\n",
       "    </tr>\n",
       "    <tr>\n",
       "      <th>4</th>\n",
       "      <td>john-paul-ii_en_angelus_1978_hf-jp-ii-ang-1978...</td>\n",
       "      <td>Jesus Christ</td>\n",
       "      <td>PERSON</td>\n",
       "      <td>1</td>\n",
       "    </tr>\n",
       "  </tbody>\n",
       "</table>\n",
       "</div>"
      ],
      "text/plain": [
       "                                            Document         Entity  \\\n",
       "0  john-paul-ii_en_angelus_1978_hf-jp-ii-ang-1978...         Church   \n",
       "1  john-paul-ii_en_angelus_1978_hf-jp-ii-ang-1978...  Mother of God   \n",
       "2  john-paul-ii_en_angelus_1978_hf-jp-ii-ang-1978...      Elizabeth   \n",
       "3  john-paul-ii_en_angelus_1978_hf-jp-ii-ang-1978...  Dear Brothers   \n",
       "4  john-paul-ii_en_angelus_1978_hf-jp-ii-ang-1978...   Jesus Christ   \n",
       "\n",
       "     Classifier  Count  \n",
       "0  ORGANIZATION      2  \n",
       "1        PERSON      1  \n",
       "2        PERSON      1  \n",
       "3  ORGANIZATION      1  \n",
       "4        PERSON      1  "
      ]
     },
     "execution_count": 100,
     "metadata": {},
     "output_type": "execute_result"
    }
   ],
   "source": [
    "df[['Document', 'Entity', 'Classifier', 'Count']].head()"
   ]
  },
  {
   "cell_type": "markdown",
   "metadata": {},
   "source": [
    "What we want is to compute *word-word* co-occurrence matrix within the same document. To do this we first join all the records from the same document with eachother. This will produce a cartesian product of all possible entity-pairs in the same document. The result grouped by document and entity pairs (n.b. this step is actually not necessary since the data is already grouped by document and entity)."
   ]
  },
  {
   "cell_type": "code",
   "execution_count": 101,
   "metadata": {
    "collapsed": true
   },
   "outputs": [],
   "source": [
    "df2 = (pd.merge(df, df, on='Document')).query('Entity_x < Entity_y')\\\n",
    "        .groupby(['Document', 'Entity_x', 'Classifier_x', 'Entity_y', 'Classifier_y' ])\\\n",
    "            [['Count_x', 'Count_y']].sum()"
   ]
  },
  {
   "cell_type": "markdown",
   "metadata": {},
   "source": [
    "Let's compute the co-occurrence value as the product of the number of times each entity occurs in the document. Add the value as a new column in the dataframe. (The word counts are removed to prevent them to be written to file.)"
   ]
  },
  {
   "cell_type": "code",
   "execution_count": 102,
   "metadata": {
    "scrolled": true
   },
   "outputs": [
    {
     "data": {
      "text/html": [
       "<div>\n",
       "<style>\n",
       "    .dataframe thead tr:only-child th {\n",
       "        text-align: right;\n",
       "    }\n",
       "\n",
       "    .dataframe thead th {\n",
       "        text-align: left;\n",
       "    }\n",
       "\n",
       "    .dataframe tbody tr th {\n",
       "        vertical-align: top;\n",
       "    }\n",
       "</style>\n",
       "<table border=\"1\" class=\"dataframe\">\n",
       "  <thead>\n",
       "    <tr style=\"text-align: right;\">\n",
       "      <th></th>\n",
       "      <th></th>\n",
       "      <th></th>\n",
       "      <th></th>\n",
       "      <th></th>\n",
       "      <th>Count</th>\n",
       "    </tr>\n",
       "    <tr>\n",
       "      <th>Document</th>\n",
       "      <th>Entity_x</th>\n",
       "      <th>Classifier_x</th>\n",
       "      <th>Entity_y</th>\n",
       "      <th>Classifier_y</th>\n",
       "      <th></th>\n",
       "    </tr>\n",
       "  </thead>\n",
       "  <tbody>\n",
       "    <tr>\n",
       "      <th rowspan=\"10\" valign=\"top\">john-paul-ii_en_angelus_1978_hf-jp-ii-ang-19781029</th>\n",
       "      <th rowspan=\"10\" valign=\"top\">Christ</th>\n",
       "      <th rowspan=\"10\" valign=\"top\">PERSON</th>\n",
       "      <th>Church</th>\n",
       "      <th>ORGANIZATION</th>\n",
       "      <td>2</td>\n",
       "    </tr>\n",
       "    <tr>\n",
       "      <th>Dear Brothers</th>\n",
       "      <th>ORGANIZATION</th>\n",
       "      <td>1</td>\n",
       "    </tr>\n",
       "    <tr>\n",
       "      <th>Elizabeth</th>\n",
       "      <th>PERSON</th>\n",
       "      <td>1</td>\n",
       "    </tr>\n",
       "    <tr>\n",
       "      <th>Jesus</th>\n",
       "      <th>PERSON</th>\n",
       "      <td>1</td>\n",
       "    </tr>\n",
       "    <tr>\n",
       "      <th>Jesus Christ</th>\n",
       "      <th>PERSON</th>\n",
       "      <td>1</td>\n",
       "    </tr>\n",
       "    <tr>\n",
       "      <th>John Paul</th>\n",
       "      <th>PERSON</th>\n",
       "      <td>1</td>\n",
       "    </tr>\n",
       "    <tr>\n",
       "      <th>John XXIII</th>\n",
       "      <th>PERSON</th>\n",
       "      <td>2</td>\n",
       "    </tr>\n",
       "    <tr>\n",
       "      <th>Mother of God</th>\n",
       "      <th>PERSON</th>\n",
       "      <td>1</td>\n",
       "    </tr>\n",
       "    <tr>\n",
       "      <th>Pope</th>\n",
       "      <th>PERSON</th>\n",
       "      <td>1</td>\n",
       "    </tr>\n",
       "    <tr>\n",
       "      <th>Vatican Basilica</th>\n",
       "      <th>LOCATION</th>\n",
       "      <td>1</td>\n",
       "    </tr>\n",
       "  </tbody>\n",
       "</table>\n",
       "</div>"
      ],
      "text/plain": [
       "                                                                                                        Count\n",
       "Document                                           Entity_x Classifier_x Entity_y         Classifier_y       \n",
       "john-paul-ii_en_angelus_1978_hf-jp-ii-ang-19781029 Christ   PERSON       Church           ORGANIZATION      2\n",
       "                                                                         Dear Brothers    ORGANIZATION      1\n",
       "                                                                         Elizabeth        PERSON            1\n",
       "                                                                         Jesus            PERSON            1\n",
       "                                                                         Jesus Christ     PERSON            1\n",
       "                                                                         John Paul        PERSON            1\n",
       "                                                                         John XXIII       PERSON            2\n",
       "                                                                         Mother of God    PERSON            1\n",
       "                                                                         Pope             PERSON            1\n",
       "                                                                         Vatican Basilica LOCATION          1"
      ]
     },
     "execution_count": 102,
     "metadata": {},
     "output_type": "execute_result"
    }
   ],
   "source": [
    "df2['Count'] = df2['Count_x'] * df2['Count_y']\n",
    "df2.pop('Count_x')\n",
    "df2.pop('Count_y')\n",
    "\n",
    "df2.head(10)"
   ]
  },
  {
   "cell_type": "markdown",
   "metadata": {},
   "source": [
    "Write the result to a text file:"
   ]
  },
  {
   "cell_type": "code",
   "execution_count": 103,
   "metadata": {
    "collapsed": true
   },
   "outputs": [],
   "source": [
    "df2.to_csv('../data/NER-john-paul-ii/john-paul-ii-co-occurrence.csv',  sep=';')"
   ]
  },
  {
   "cell_type": "code",
   "execution_count": null,
   "metadata": {
    "collapsed": true
   },
   "outputs": [],
   "source": []
  }
 ],
 "metadata": {
  "kernelspec": {
   "display_name": "Python 3",
   "language": "python",
   "name": "python3"
  },
  "language_info": {
   "codemirror_mode": {
    "name": "ipython",
    "version": 3
   },
   "file_extension": ".py",
   "mimetype": "text/x-python",
   "name": "python",
   "nbconvert_exporter": "python",
   "pygments_lexer": "ipython3",
   "version": "3.6.1"
  }
 },
 "nbformat": 4,
 "nbformat_minor": 2
}
